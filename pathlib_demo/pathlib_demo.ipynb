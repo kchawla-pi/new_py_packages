{
 "cells": [
  {
   "cell_type": "code",
   "execution_count": 6,
   "metadata": {
    "collapsed": false
   },
   "outputs": [
    {
     "name": "stdout",
     "output_type": "stream",
     "text": [
      "~\\workspace\\pytalk_hackingqueens_meetup_20180207\\demo_tree\n"
     ]
    }
   ],
   "source": [
    "import pathlib\n",
    "\n",
    "\n",
    "rootpath_str = '~\\\\workspace\\\\pytalk_hackingqueens_meetup_20180207\\\\demo_tree'\n",
    "print(rootpath_str)\n"
   ]
  },
  {
   "cell_type": "code",
   "execution_count": 5,
   "metadata": {
    "collapsed": false
   },
   "outputs": [
    {
     "name": "stdout",
     "output_type": "stream",
     "text": [
      "~\\workspace\\pytalk_hackingqueens_meetup_20180207\\demo_tree\n"
     ]
    }
   ],
   "source": [
    "from pathlib import Path\n",
    "\n",
    "rootpath = Path('~\\\\workspace\\\\pytalk_hackingqueens_meetup_20180207\\\\demo_tree')\n",
    "print(rootpath)\n",
    "\n"
   ]
  },
  {
   "cell_type": "code",
   "execution_count": 4,
   "metadata": {},
   "outputs": [
    {
     "name": "stdout",
     "output_type": "stream",
     "text": [
      "C:\\Users\\kshit\\workspace\\pytalk_hackingqueens_meetup_20180207\\demo_tree\n"
     ]
    }
   ],
   "source": [
    "from pathlib import Path\n",
    "\n",
    "rootpath = Path('~\\\\workspace\\\\pytalk_hackingqueens_meetup_20180207\\\\demo_tree').expanduser()\n",
    "print(rootpath)\n",
    "\n"
   ]
  },
  {
   "cell_type": "code",
   "execution_count": 7,
   "metadata": {},
   "outputs": [
    {
     "name": "stdout",
     "output_type": "stream",
     "text": [
      "C:\\Users\\kshit\\workspace\\pytalk_hackingqueens_meetup_20180207\n"
     ]
    }
   ],
   "source": [
    "from pathlib import Path\n",
    "\n",
    "rootpath = Path('~\\\\workspace\\\\pytalk_hackingqueens_meetup_20180207\\\\demo_tree').expanduser()\n",
    "print(rootpath.parent)\n",
    "\n"
   ]
  },
  {
   "cell_type": "code",
   "execution_count": null,
   "metadata": {},
   "outputs": [],
   "source": []
  }
 ],
 "metadata": {
  "kernelspec": {
   "display_name": "Python 2",
   "language": "python",
   "name": "python2"
  },
  "language_info": {
   "codemirror_mode": {
    "name": "ipython",
    "version": 2
   },
   "file_extension": ".py",
   "mimetype": "text/x-python",
   "name": "python",
   "nbconvert_exporter": "python",
   "pygments_lexer": "ipython2",
   "version": "2.7.6"
  }
 },
 "nbformat": 4,
 "nbformat_minor": 0
}
